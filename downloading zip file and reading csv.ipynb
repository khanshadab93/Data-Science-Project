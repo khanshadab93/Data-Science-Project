{
 "cells": [
  {
   "cell_type": "markdown",
   "metadata": {},
   "source": [
    "https://www.bseindia.com/download/BhavCopy/Equity/EQ230421_CSV.zip"
   ]
  },
  {
   "cell_type": "code",
   "execution_count": 3,
   "metadata": {
    "scrolled": true
   },
   "outputs": [],
   "source": [
    "from zipfile import ZipFile\n",
    "from urllib.request import urlopen, Request\n",
    "import pandas as pd\n",
    "import os\n",
    "\n",
    "URL = 'https://www.bseindia.com/download/BhavCopy/Equity/EQ230421_CSV.zip'\n",
    "headers = {'User-Agent': 'Mozilla/5.0 (Windows NT 6.1) AppleWebKit/537.36 (KHTML, like Gecko) Chrome/41.0.2228.0 Safari/537.3'}\n",
    "# open and save the zip file onto computer\n",
    "req = Request(url=URL, headers=headers) \n",
    "url = urlopen(req)\n",
    "output = open('zipFile.zip', 'wb')    # note the flag:  \"wb\"        \n",
    "output.write(url.read())\n",
    "output.close()\n",
    "\n",
    "# read the zip file as a pandas dataframe\n",
    "df = pd.read_csv('zipFile.zip')   # pandas version 0.18.1 takes zip files"
   ]
  },
  {
   "cell_type": "code",
   "execution_count": 4,
   "metadata": {},
   "outputs": [
    {
     "data": {
      "text/plain": [
       "(3366, 14)"
      ]
     },
     "execution_count": 4,
     "metadata": {},
     "output_type": "execute_result"
    }
   ],
   "source": [
    "df.shape"
   ]
  },
  {
   "cell_type": "code",
   "execution_count": 5,
   "metadata": {},
   "outputs": [
    {
     "data": {
      "text/html": [
       "<div>\n",
       "<style scoped>\n",
       "    .dataframe tbody tr th:only-of-type {\n",
       "        vertical-align: middle;\n",
       "    }\n",
       "\n",
       "    .dataframe tbody tr th {\n",
       "        vertical-align: top;\n",
       "    }\n",
       "\n",
       "    .dataframe thead th {\n",
       "        text-align: right;\n",
       "    }\n",
       "</style>\n",
       "<table border=\"1\" class=\"dataframe\">\n",
       "  <thead>\n",
       "    <tr style=\"text-align: right;\">\n",
       "      <th></th>\n",
       "      <th>SC_CODE</th>\n",
       "      <th>SC_NAME</th>\n",
       "      <th>SC_GROUP</th>\n",
       "      <th>SC_TYPE</th>\n",
       "      <th>OPEN</th>\n",
       "      <th>HIGH</th>\n",
       "      <th>LOW</th>\n",
       "      <th>CLOSE</th>\n",
       "      <th>LAST</th>\n",
       "      <th>PREVCLOSE</th>\n",
       "      <th>NO_TRADES</th>\n",
       "      <th>NO_OF_SHRS</th>\n",
       "      <th>NET_TURNOV</th>\n",
       "      <th>TDCLOINDI</th>\n",
       "    </tr>\n",
       "  </thead>\n",
       "  <tbody>\n",
       "    <tr>\n",
       "      <th>0</th>\n",
       "      <td>500002</td>\n",
       "      <td>ABB LTD.</td>\n",
       "      <td>A</td>\n",
       "      <td>Q</td>\n",
       "      <td>1385.15</td>\n",
       "      <td>1394.0</td>\n",
       "      <td>1371.20</td>\n",
       "      <td>1381.65</td>\n",
       "      <td>1381.65</td>\n",
       "      <td>1389.65</td>\n",
       "      <td>421</td>\n",
       "      <td>3259</td>\n",
       "      <td>4521198.0</td>\n",
       "      <td>NaN</td>\n",
       "    </tr>\n",
       "    <tr>\n",
       "      <th>1</th>\n",
       "      <td>500003</td>\n",
       "      <td>AEGIS LOGIS</td>\n",
       "      <td>A</td>\n",
       "      <td>Q</td>\n",
       "      <td>285.30</td>\n",
       "      <td>294.2</td>\n",
       "      <td>285.30</td>\n",
       "      <td>290.90</td>\n",
       "      <td>290.80</td>\n",
       "      <td>285.55</td>\n",
       "      <td>854</td>\n",
       "      <td>18641</td>\n",
       "      <td>5422529.0</td>\n",
       "      <td>NaN</td>\n",
       "    </tr>\n",
       "    <tr>\n",
       "      <th>2</th>\n",
       "      <td>500008</td>\n",
       "      <td>AMAR RAJA BA</td>\n",
       "      <td>A</td>\n",
       "      <td>Q</td>\n",
       "      <td>800.00</td>\n",
       "      <td>807.9</td>\n",
       "      <td>796.25</td>\n",
       "      <td>800.85</td>\n",
       "      <td>800.85</td>\n",
       "      <td>795.95</td>\n",
       "      <td>800</td>\n",
       "      <td>22831</td>\n",
       "      <td>18283654.0</td>\n",
       "      <td>NaN</td>\n",
       "    </tr>\n",
       "    <tr>\n",
       "      <th>3</th>\n",
       "      <td>500009</td>\n",
       "      <td>A.SARABHAI</td>\n",
       "      <td>X</td>\n",
       "      <td>Q</td>\n",
       "      <td>26.40</td>\n",
       "      <td>27.4</td>\n",
       "      <td>24.00</td>\n",
       "      <td>24.45</td>\n",
       "      <td>24.45</td>\n",
       "      <td>25.60</td>\n",
       "      <td>1164</td>\n",
       "      <td>344146</td>\n",
       "      <td>8798362.0</td>\n",
       "      <td>NaN</td>\n",
       "    </tr>\n",
       "    <tr>\n",
       "      <th>4</th>\n",
       "      <td>500010</td>\n",
       "      <td>HDFC</td>\n",
       "      <td>A</td>\n",
       "      <td>Q</td>\n",
       "      <td>2459.20</td>\n",
       "      <td>2504.5</td>\n",
       "      <td>2438.00</td>\n",
       "      <td>2497.30</td>\n",
       "      <td>2497.30</td>\n",
       "      <td>2479.30</td>\n",
       "      <td>9034</td>\n",
       "      <td>221537</td>\n",
       "      <td>549025889.0</td>\n",
       "      <td>NaN</td>\n",
       "    </tr>\n",
       "  </tbody>\n",
       "</table>\n",
       "</div>"
      ],
      "text/plain": [
       "   SC_CODE       SC_NAME SC_GROUP SC_TYPE     OPEN    HIGH      LOW    CLOSE  \\\n",
       "0   500002  ABB LTD.           A        Q  1385.15  1394.0  1371.20  1381.65   \n",
       "1   500003  AEGIS LOGIS        A        Q   285.30   294.2   285.30   290.90   \n",
       "2   500008  AMAR RAJA BA       A        Q   800.00   807.9   796.25   800.85   \n",
       "3   500009  A.SARABHAI         X        Q    26.40    27.4    24.00    24.45   \n",
       "4   500010  HDFC               A        Q  2459.20  2504.5  2438.00  2497.30   \n",
       "\n",
       "      LAST  PREVCLOSE  NO_TRADES  NO_OF_SHRS   NET_TURNOV  TDCLOINDI  \n",
       "0  1381.65    1389.65        421        3259    4521198.0        NaN  \n",
       "1   290.80     285.55        854       18641    5422529.0        NaN  \n",
       "2   800.85     795.95        800       22831   18283654.0        NaN  \n",
       "3    24.45      25.60       1164      344146    8798362.0        NaN  \n",
       "4  2497.30    2479.30       9034      221537  549025889.0        NaN  "
      ]
     },
     "execution_count": 5,
     "metadata": {},
     "output_type": "execute_result"
    }
   ],
   "source": [
    "df.head()"
   ]
  },
  {
   "cell_type": "code",
   "execution_count": null,
   "metadata": {},
   "outputs": [],
   "source": []
  },
  {
   "cell_type": "markdown",
   "metadata": {},
   "source": [
    "Given a large number n(max 30 digits) and a digit d(ranging from 2 to 9 inclusive) divide the given number in to a and b such that a+b = n and a,b should not contain given digit 'd'."
   ]
  },
  {
   "cell_type": "code",
   "execution_count": null,
   "metadata": {},
   "outputs": [],
   "source": []
  }
 ],
 "metadata": {
  "kernelspec": {
   "display_name": "Python 3",
   "language": "python",
   "name": "python3"
  },
  "language_info": {
   "codemirror_mode": {
    "name": "ipython",
    "version": 3
   },
   "file_extension": ".py",
   "mimetype": "text/x-python",
   "name": "python",
   "nbconvert_exporter": "python",
   "pygments_lexer": "ipython3",
   "version": "3.7.9"
  }
 },
 "nbformat": 4,
 "nbformat_minor": 4
}
