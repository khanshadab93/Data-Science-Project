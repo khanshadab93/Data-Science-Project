{
 "cells": [
  {
   "cell_type": "markdown",
   "metadata": {},
   "source": [
    "# Project: Investigate a Dataset (IMDB movie Database - 'TMdb Movies')\n",
    "\n",
    "## Table of Contents\n",
    "<ul>\n",
    "<li><a href=\"#intro\">Introduction</a></li>\n",
    "<li><a href=\"#wrangling\">Data Wrangling</a></li>\n",
    "<li><a href=\"#eda\">Exploratory Data Analysis</a></li>\n",
    "<li><a href=\"#conclusions\">Conclusions</a></li>\n",
    "</ul>"
   ]
  },
  {
   "cell_type": "markdown",
   "metadata": {},
   "source": [
    "<a id='intro'></a>\n",
    "## Introduction"
   ]
  },
  {
   "cell_type": "markdown",
   "metadata": {},
   "source": [
    "### Useful Variables\n",
    "> 1. id\n",
    "> 2. revenue\n",
    "> 3. budget\n",
    "> 4. popularity\n",
    "> 5. vote-average\n",
    "> 6. vote-count\n",
    "> 7. year\n",
    "> 8. genre\n",
    "\n",
    "### New columns\n",
    "> 1. success_factor - revenue/budget\n",
    "> 2. vote_factor - (vote_average * 1000)/vote_count\n",
    "> 3. factor - Dependent Variable"
   ]
  },
  {
   "cell_type": "code",
   "execution_count": 1,
   "metadata": {},
   "outputs": [],
   "source": [
    "# Use this cell to set up import statements for all of the packages that you\n",
    "\n",
    "import pandas as pd\n",
    "import numpy as np\n",
    "import matplotlib.pyplot as plt\n",
    "%matplotlib inline \n",
    "\n",
    "# Remember to include a 'magic word' so that your visualizations are plotted\n",
    "#   inline with the notebook. See this page for more:\n",
    "#   http://ipython.readthedocs.io/en/stable/interactive/magics.html\n"
   ]
  },
  {
   "cell_type": "markdown",
   "metadata": {},
   "source": [
    "<a id='wrangling'></a>\n",
    "## Data Wrangling\n",
    "\n",
    "\n",
    "### General Properties"
   ]
  },
  {
   "cell_type": "code",
   "execution_count": 2,
   "metadata": {},
   "outputs": [
    {
     "data": {
      "text/html": [
       "<div>\n",
       "<style scoped>\n",
       "    .dataframe tbody tr th:only-of-type {\n",
       "        vertical-align: middle;\n",
       "    }\n",
       "\n",
       "    .dataframe tbody tr th {\n",
       "        vertical-align: top;\n",
       "    }\n",
       "\n",
       "    .dataframe thead th {\n",
       "        text-align: right;\n",
       "    }\n",
       "</style>\n",
       "<table border=\"1\" class=\"dataframe\">\n",
       "  <thead>\n",
       "    <tr style=\"text-align: right;\">\n",
       "      <th></th>\n",
       "      <th>id</th>\n",
       "      <th>popularity</th>\n",
       "      <th>budget</th>\n",
       "      <th>revenue</th>\n",
       "      <th>runtime</th>\n",
       "      <th>vote_count</th>\n",
       "      <th>vote_average</th>\n",
       "      <th>release_year</th>\n",
       "      <th>budget_adj</th>\n",
       "      <th>revenue_adj</th>\n",
       "    </tr>\n",
       "  </thead>\n",
       "  <tbody>\n",
       "    <tr>\n",
       "      <th>count</th>\n",
       "      <td>10866.000000</td>\n",
       "      <td>10866.000000</td>\n",
       "      <td>1.086600e+04</td>\n",
       "      <td>1.086600e+04</td>\n",
       "      <td>10866.000000</td>\n",
       "      <td>10866.000000</td>\n",
       "      <td>10866.000000</td>\n",
       "      <td>10866.000000</td>\n",
       "      <td>1.086600e+04</td>\n",
       "      <td>1.086600e+04</td>\n",
       "    </tr>\n",
       "    <tr>\n",
       "      <th>mean</th>\n",
       "      <td>66064.177434</td>\n",
       "      <td>0.646441</td>\n",
       "      <td>1.462570e+07</td>\n",
       "      <td>3.982332e+07</td>\n",
       "      <td>102.070863</td>\n",
       "      <td>217.389748</td>\n",
       "      <td>5.974922</td>\n",
       "      <td>2001.322658</td>\n",
       "      <td>1.755104e+07</td>\n",
       "      <td>5.136436e+07</td>\n",
       "    </tr>\n",
       "    <tr>\n",
       "      <th>std</th>\n",
       "      <td>92130.136561</td>\n",
       "      <td>1.000185</td>\n",
       "      <td>3.091321e+07</td>\n",
       "      <td>1.170035e+08</td>\n",
       "      <td>31.381405</td>\n",
       "      <td>575.619058</td>\n",
       "      <td>0.935142</td>\n",
       "      <td>12.812941</td>\n",
       "      <td>3.430616e+07</td>\n",
       "      <td>1.446325e+08</td>\n",
       "    </tr>\n",
       "    <tr>\n",
       "      <th>min</th>\n",
       "      <td>5.000000</td>\n",
       "      <td>0.000065</td>\n",
       "      <td>0.000000e+00</td>\n",
       "      <td>0.000000e+00</td>\n",
       "      <td>0.000000</td>\n",
       "      <td>10.000000</td>\n",
       "      <td>1.500000</td>\n",
       "      <td>1960.000000</td>\n",
       "      <td>0.000000e+00</td>\n",
       "      <td>0.000000e+00</td>\n",
       "    </tr>\n",
       "    <tr>\n",
       "      <th>25%</th>\n",
       "      <td>10596.250000</td>\n",
       "      <td>0.207583</td>\n",
       "      <td>0.000000e+00</td>\n",
       "      <td>0.000000e+00</td>\n",
       "      <td>90.000000</td>\n",
       "      <td>17.000000</td>\n",
       "      <td>5.400000</td>\n",
       "      <td>1995.000000</td>\n",
       "      <td>0.000000e+00</td>\n",
       "      <td>0.000000e+00</td>\n",
       "    </tr>\n",
       "    <tr>\n",
       "      <th>50%</th>\n",
       "      <td>20669.000000</td>\n",
       "      <td>0.383856</td>\n",
       "      <td>0.000000e+00</td>\n",
       "      <td>0.000000e+00</td>\n",
       "      <td>99.000000</td>\n",
       "      <td>38.000000</td>\n",
       "      <td>6.000000</td>\n",
       "      <td>2006.000000</td>\n",
       "      <td>0.000000e+00</td>\n",
       "      <td>0.000000e+00</td>\n",
       "    </tr>\n",
       "    <tr>\n",
       "      <th>75%</th>\n",
       "      <td>75610.000000</td>\n",
       "      <td>0.713817</td>\n",
       "      <td>1.500000e+07</td>\n",
       "      <td>2.400000e+07</td>\n",
       "      <td>111.000000</td>\n",
       "      <td>145.750000</td>\n",
       "      <td>6.600000</td>\n",
       "      <td>2011.000000</td>\n",
       "      <td>2.085325e+07</td>\n",
       "      <td>3.369710e+07</td>\n",
       "    </tr>\n",
       "    <tr>\n",
       "      <th>max</th>\n",
       "      <td>417859.000000</td>\n",
       "      <td>32.985763</td>\n",
       "      <td>4.250000e+08</td>\n",
       "      <td>2.781506e+09</td>\n",
       "      <td>900.000000</td>\n",
       "      <td>9767.000000</td>\n",
       "      <td>9.200000</td>\n",
       "      <td>2015.000000</td>\n",
       "      <td>4.250000e+08</td>\n",
       "      <td>2.827124e+09</td>\n",
       "    </tr>\n",
       "  </tbody>\n",
       "</table>\n",
       "</div>"
      ],
      "text/plain": [
       "                  id    popularity        budget       revenue       runtime  \\\n",
       "count   10866.000000  10866.000000  1.086600e+04  1.086600e+04  10866.000000   \n",
       "mean    66064.177434      0.646441  1.462570e+07  3.982332e+07    102.070863   \n",
       "std     92130.136561      1.000185  3.091321e+07  1.170035e+08     31.381405   \n",
       "min         5.000000      0.000065  0.000000e+00  0.000000e+00      0.000000   \n",
       "25%     10596.250000      0.207583  0.000000e+00  0.000000e+00     90.000000   \n",
       "50%     20669.000000      0.383856  0.000000e+00  0.000000e+00     99.000000   \n",
       "75%     75610.000000      0.713817  1.500000e+07  2.400000e+07    111.000000   \n",
       "max    417859.000000     32.985763  4.250000e+08  2.781506e+09    900.000000   \n",
       "\n",
       "         vote_count  vote_average  release_year    budget_adj   revenue_adj  \n",
       "count  10866.000000  10866.000000  10866.000000  1.086600e+04  1.086600e+04  \n",
       "mean     217.389748      5.974922   2001.322658  1.755104e+07  5.136436e+07  \n",
       "std      575.619058      0.935142     12.812941  3.430616e+07  1.446325e+08  \n",
       "min       10.000000      1.500000   1960.000000  0.000000e+00  0.000000e+00  \n",
       "25%       17.000000      5.400000   1995.000000  0.000000e+00  0.000000e+00  \n",
       "50%       38.000000      6.000000   2006.000000  0.000000e+00  0.000000e+00  \n",
       "75%      145.750000      6.600000   2011.000000  2.085325e+07  3.369710e+07  \n",
       "max     9767.000000      9.200000   2015.000000  4.250000e+08  2.827124e+09  "
      ]
     },
     "execution_count": 2,
     "metadata": {},
     "output_type": "execute_result"
    }
   ],
   "source": [
    "# Load your data and print out a few lines. Perform operations to inspect data\n",
    "df = pd.read_csv('tmdb_movies.csv', header = 0)\n",
    "df.head() # Checking the initial contents of DataFrame\n",
    "#   types and look for instances of missing or possibly errant data.\n",
    "df.describe() # Exploring the different Variables "
   ]
  },
  {
   "cell_type": "code",
   "execution_count": 3,
   "metadata": {},
   "outputs": [
    {
     "name": "stdout",
     "output_type": "stream",
     "text": [
      "<class 'pandas.core.frame.DataFrame'>\n",
      "RangeIndex: 10866 entries, 0 to 10865\n",
      "Data columns (total 21 columns):\n",
      "id                      10866 non-null int64\n",
      "imdb_id                 10856 non-null object\n",
      "popularity              10866 non-null float64\n",
      "budget                  10866 non-null int64\n",
      "revenue                 10866 non-null int64\n",
      "original_title          10866 non-null object\n",
      "cast                    10790 non-null object\n",
      "homepage                2936 non-null object\n",
      "director                10822 non-null object\n",
      "tagline                 8042 non-null object\n",
      "keywords                9373 non-null object\n",
      "overview                10862 non-null object\n",
      "runtime                 10866 non-null int64\n",
      "genres                  10843 non-null object\n",
      "production_companies    9836 non-null object\n",
      "release_date            10866 non-null object\n",
      "vote_count              10866 non-null int64\n",
      "vote_average            10866 non-null float64\n",
      "release_year            10866 non-null int64\n",
      "budget_adj              10866 non-null float64\n",
      "revenue_adj             10866 non-null float64\n",
      "dtypes: float64(4), int64(6), object(11)\n",
      "memory usage: 1.7+ MB\n"
     ]
    }
   ],
   "source": [
    "df.info() # Checking the datatypes of variables"
   ]
  },
  {
   "cell_type": "code",
   "execution_count": 4,
   "metadata": {},
   "outputs": [
    {
     "data": {
      "text/plain": [
       "id                         0\n",
       "imdb_id                   10\n",
       "popularity                 0\n",
       "budget                     0\n",
       "revenue                    0\n",
       "original_title             0\n",
       "cast                      76\n",
       "homepage                7930\n",
       "director                  44\n",
       "tagline                 2824\n",
       "keywords                1493\n",
       "overview                   4\n",
       "runtime                    0\n",
       "genres                    23\n",
       "production_companies    1030\n",
       "release_date               0\n",
       "vote_count                 0\n",
       "vote_average               0\n",
       "release_year               0\n",
       "budget_adj                 0\n",
       "revenue_adj                0\n",
       "dtype: int64"
      ]
     },
     "execution_count": 4,
     "metadata": {},
     "output_type": "execute_result"
    }
   ],
   "source": [
    "df.isnull().sum() # Checking for null values"
   ]
  },
  {
   "cell_type": "markdown",
   "metadata": {},
   "source": [
    "## Total Rows - 10866\n",
    "\n",
    "### Useful Variables\n",
    "                    \n",
    "> 1. id -> Type - int || Null Values - 0\n",
    "> 2. revenue ->      Type - int  ||     Null Values - 0\n",
    "> 3. budget ->       Type - int  ||    Null Values - 0\n",
    "> 4. popularity ->   Type - float  ||    Null Values - 0\n",
    "> 5. vote_average -> Type - float  ||    Null Values - 0\n",
    "> 6. vote_count ->   Type - int  ||    Null Values - 0\n",
    "> 7. year ->   Type - int  ||    Null Values - 0\n",
    "> 8. genre -> Type - object || Null Values - 23"
   ]
  },
  {
   "cell_type": "markdown",
   "metadata": {},
   "source": [
    "## Data Cleaning (Removal of useless columns)\n",
    "### Steps\n",
    "1. Create a new DataFrame from old dataframe\n",
    "2. Select only the useful columns\n",
    "> ### Useful Variables\n",
    "> 1. id\n",
    "> 2. revenue\n",
    "> 3. budget\n",
    "> 4. popularity\n",
    "> 5. vote-average\n",
    "> 6. vote-count\n",
    "> 7. year\n",
    "> 8. genre\n",
    "\n",
    "3. Addition of new columns\n",
    "> ### New columns\n",
    "> 1. success_factor - revenue/budget\n",
    "> 2. vote_factor - (vote_average * 1000)/vote_count"
   ]
  },
  {
   "cell_type": "code",
   "execution_count": 5,
   "metadata": {},
   "outputs": [
    {
     "data": {
      "text/html": [
       "<div>\n",
       "<style scoped>\n",
       "    .dataframe tbody tr th:only-of-type {\n",
       "        vertical-align: middle;\n",
       "    }\n",
       "\n",
       "    .dataframe tbody tr th {\n",
       "        vertical-align: top;\n",
       "    }\n",
       "\n",
       "    .dataframe thead th {\n",
       "        text-align: right;\n",
       "    }\n",
       "</style>\n",
       "<table border=\"1\" class=\"dataframe\">\n",
       "  <thead>\n",
       "    <tr style=\"text-align: right;\">\n",
       "      <th></th>\n",
       "      <th>id</th>\n",
       "      <th>popularity</th>\n",
       "      <th>budget</th>\n",
       "      <th>revenue</th>\n",
       "      <th>genres</th>\n",
       "      <th>release_year</th>\n",
       "      <th>vote_count</th>\n",
       "      <th>vote_average</th>\n",
       "    </tr>\n",
       "  </thead>\n",
       "  <tbody>\n",
       "    <tr>\n",
       "      <th>0</th>\n",
       "      <td>135397</td>\n",
       "      <td>32.985763</td>\n",
       "      <td>150000000</td>\n",
       "      <td>1513528810</td>\n",
       "      <td>Action|Adventure|Science Fiction|Thriller</td>\n",
       "      <td>2015</td>\n",
       "      <td>5562</td>\n",
       "      <td>6.5</td>\n",
       "    </tr>\n",
       "    <tr>\n",
       "      <th>1</th>\n",
       "      <td>76341</td>\n",
       "      <td>28.419936</td>\n",
       "      <td>150000000</td>\n",
       "      <td>378436354</td>\n",
       "      <td>Action|Adventure|Science Fiction|Thriller</td>\n",
       "      <td>2015</td>\n",
       "      <td>6185</td>\n",
       "      <td>7.1</td>\n",
       "    </tr>\n",
       "    <tr>\n",
       "      <th>2</th>\n",
       "      <td>262500</td>\n",
       "      <td>13.112507</td>\n",
       "      <td>110000000</td>\n",
       "      <td>295238201</td>\n",
       "      <td>Adventure|Science Fiction|Thriller</td>\n",
       "      <td>2015</td>\n",
       "      <td>2480</td>\n",
       "      <td>6.3</td>\n",
       "    </tr>\n",
       "    <tr>\n",
       "      <th>3</th>\n",
       "      <td>140607</td>\n",
       "      <td>11.173104</td>\n",
       "      <td>200000000</td>\n",
       "      <td>2068178225</td>\n",
       "      <td>Action|Adventure|Science Fiction|Fantasy</td>\n",
       "      <td>2015</td>\n",
       "      <td>5292</td>\n",
       "      <td>7.5</td>\n",
       "    </tr>\n",
       "    <tr>\n",
       "      <th>4</th>\n",
       "      <td>168259</td>\n",
       "      <td>9.335014</td>\n",
       "      <td>190000000</td>\n",
       "      <td>1506249360</td>\n",
       "      <td>Action|Crime|Thriller</td>\n",
       "      <td>2015</td>\n",
       "      <td>2947</td>\n",
       "      <td>7.3</td>\n",
       "    </tr>\n",
       "  </tbody>\n",
       "</table>\n",
       "</div>"
      ],
      "text/plain": [
       "       id  popularity     budget     revenue  \\\n",
       "0  135397   32.985763  150000000  1513528810   \n",
       "1   76341   28.419936  150000000   378436354   \n",
       "2  262500   13.112507  110000000   295238201   \n",
       "3  140607   11.173104  200000000  2068178225   \n",
       "4  168259    9.335014  190000000  1506249360   \n",
       "\n",
       "                                      genres  release_year  vote_count  \\\n",
       "0  Action|Adventure|Science Fiction|Thriller          2015        5562   \n",
       "1  Action|Adventure|Science Fiction|Thriller          2015        6185   \n",
       "2         Adventure|Science Fiction|Thriller          2015        2480   \n",
       "3   Action|Adventure|Science Fiction|Fantasy          2015        5292   \n",
       "4                      Action|Crime|Thriller          2015        2947   \n",
       "\n",
       "   vote_average  \n",
       "0           6.5  \n",
       "1           7.1  \n",
       "2           6.3  \n",
       "3           7.5  \n",
       "4           7.3  "
      ]
     },
     "execution_count": 5,
     "metadata": {},
     "output_type": "execute_result"
    }
   ],
   "source": [
    "# After discussing the structure of the data and any problems that need to be\n",
    "#   cleaned, perform those cleaning steps in the second part of this section.\n",
    "df_new = df[['id','popularity','budget','revenue','genres','release_year','vote_count','vote_average']].copy()\n",
    "df_new.head()"
   ]
  },
  {
   "cell_type": "code",
   "execution_count": 6,
   "metadata": {},
   "outputs": [
    {
     "name": "stdout",
     "output_type": "stream",
     "text": [
      "<class 'pandas.core.frame.DataFrame'>\n",
      "RangeIndex: 10866 entries, 0 to 10865\n",
      "Data columns (total 8 columns):\n",
      "id              10866 non-null int64\n",
      "popularity      10866 non-null float64\n",
      "budget          10866 non-null int64\n",
      "revenue         10866 non-null int64\n",
      "genres          10843 non-null object\n",
      "release_year    10866 non-null int64\n",
      "vote_count      10866 non-null int64\n",
      "vote_average    10866 non-null float64\n",
      "dtypes: float64(2), int64(5), object(1)\n",
      "memory usage: 679.2+ KB\n"
     ]
    }
   ],
   "source": [
    "df_new.info()"
   ]
  },
  {
   "cell_type": "code",
   "execution_count": 7,
   "metadata": {},
   "outputs": [
    {
     "data": {
      "text/plain": [
       "id               0\n",
       "popularity       0\n",
       "budget           0\n",
       "revenue          0\n",
       "genres          23\n",
       "release_year     0\n",
       "vote_count       0\n",
       "vote_average     0\n",
       "dtype: int64"
      ]
     },
     "execution_count": 7,
     "metadata": {},
     "output_type": "execute_result"
    }
   ],
   "source": [
    "df_new.isnull().sum()"
   ]
  },
  {
   "cell_type": "markdown",
   "metadata": {},
   "source": [
    "Since **23** Null Values are present in the ***Genre***  column, so **dropping** the null values"
   ]
  },
  {
   "cell_type": "code",
   "execution_count": 8,
   "metadata": {},
   "outputs": [
    {
     "data": {
      "text/plain": [
       "id              0\n",
       "popularity      0\n",
       "budget          0\n",
       "revenue         0\n",
       "genres          0\n",
       "release_year    0\n",
       "vote_count      0\n",
       "vote_average    0\n",
       "dtype: int64"
      ]
     },
     "execution_count": 8,
     "metadata": {},
     "output_type": "execute_result"
    }
   ],
   "source": [
    "df_new.dropna(inplace = True) \n",
    "df_new.isnull().sum()"
   ]
  },
  {
   "cell_type": "code",
   "execution_count": 9,
   "metadata": {},
   "outputs": [
    {
     "name": "stdout",
     "output_type": "stream",
     "text": [
      "<class 'pandas.core.frame.DataFrame'>\n",
      "Int64Index: 10843 entries, 0 to 10865\n",
      "Data columns (total 8 columns):\n",
      "id              10843 non-null int64\n",
      "popularity      10843 non-null float64\n",
      "budget          10843 non-null int64\n",
      "revenue         10843 non-null int64\n",
      "genres          10843 non-null object\n",
      "release_year    10843 non-null int64\n",
      "vote_count      10843 non-null int64\n",
      "vote_average    10843 non-null float64\n",
      "dtypes: float64(2), int64(5), object(1)\n",
      "memory usage: 762.4+ KB\n"
     ]
    }
   ],
   "source": [
    "df_new.info()"
   ]
  },
  {
   "cell_type": "markdown",
   "metadata": {},
   "source": [
    "### Adding New Columns\n",
    "> 1. success Factor\n",
    "> 2. vote_factor\n",
    "> 3. factor"
   ]
  },
  {
   "cell_type": "markdown",
   "metadata": {},
   "source": [
    "Creating **'success_factor'**"
   ]
  },
  {
   "cell_type": "code",
   "execution_count": 10,
   "metadata": {},
   "outputs": [
    {
     "data": {
      "text/plain": [
       "count    1.084300e+04\n",
       "mean     1.631930e+08\n",
       "std      1.037763e+09\n",
       "min      6.666667e-11\n",
       "25%      1.000000e+00\n",
       "50%      1.000000e+00\n",
       "75%      2.447240e+00\n",
       "max      2.536254e+10\n",
       "Name: success_factor, dtype: float64"
      ]
     },
     "execution_count": 10,
     "metadata": {},
     "output_type": "execute_result"
    }
   ],
   "source": [
    "df_new['success_factor'] = (df_new['revenue'] + 0.01)/(df_new['budget']+0.01)\n",
    "df_new['success_factor'].describe()"
   ]
  },
  {
   "cell_type": "markdown",
   "metadata": {},
   "source": [
    "Creating **'vote_factor'**"
   ]
  },
  {
   "cell_type": "code",
   "execution_count": 11,
   "metadata": {},
   "outputs": [
    {
     "data": {
      "text/plain": [
       "count    10843.000000\n",
       "mean         0.235727\n",
       "std          0.211669\n",
       "min          0.000000\n",
       "25%          0.046783\n",
       "50%          0.175214\n",
       "75%          0.387020\n",
       "max          1.000000\n",
       "Name: vote_factor, dtype: float64"
      ]
     },
     "execution_count": 11,
     "metadata": {},
     "output_type": "execute_result"
    }
   ],
   "source": [
    "df_new['vote_factor'] = (df_new['vote_average']*1000)/df['vote_count']\n",
    "df_new['vote_factor'] = 0 + ((df_new['vote_factor'] - df_new['vote_factor'].min()) * (1-0) / (df_new['vote_factor'].max() - df_new['vote_factor'].min()))\n",
    "df_new['vote_factor'].describe()"
   ]
  },
  {
   "cell_type": "markdown",
   "metadata": {},
   "source": [
    "Creating **'factor'**"
   ]
  },
  {
   "cell_type": "code",
   "execution_count": 12,
   "metadata": {},
   "outputs": [
    {
     "data": {
      "text/plain": [
       "0    10615\n",
       "1      228\n",
       "Name: factor, dtype: int64"
      ]
     },
     "execution_count": 12,
     "metadata": {},
     "output_type": "execute_result"
    }
   ],
   "source": [
    "vote_mean = df_new['vote_factor'].mean()\n",
    "vote_mean\n",
    "\n",
    "success_mean = df_new['success_factor'].mean()\n",
    "df_new['vote_factor'] >= vote_mean\n",
    "\n",
    "df_new['success_factor'] >= success_mean\n",
    "\n",
    "df_new['factor'] = (df_new['success_factor'] >= success_mean) & (df_new['vote_factor'] >= vote_mean)\n",
    "df_new.columns\n",
    "df_new['factor'] = df_new['factor'].astype(int)\n",
    "df_new['factor'].value_counts()"
   ]
  },
  {
   "cell_type": "markdown",
   "metadata": {},
   "source": [
    "Converting Genres ***categorical*** values to ***quantitative*** values"
   ]
  },
  {
   "cell_type": "code",
   "execution_count": 13,
   "metadata": {},
   "outputs": [
    {
     "data": {
      "text/plain": [
       "0    Action|Adventure|Science Fiction|Thriller\n",
       "1    Action|Adventure|Science Fiction|Thriller\n",
       "2           Adventure|Science Fiction|Thriller\n",
       "3     Action|Adventure|Science Fiction|Fantasy\n",
       "4                        Action|Crime|Thriller\n",
       "Name: genres, dtype: object"
      ]
     },
     "execution_count": 13,
     "metadata": {},
     "output_type": "execute_result"
    }
   ],
   "source": [
    "df_new['genres'].head()"
   ]
  },
  {
   "cell_type": "markdown",
   "metadata": {},
   "source": [
    "## Splitting values of *Genre* Column"
   ]
  },
  {
   "cell_type": "code",
   "execution_count": 14,
   "metadata": {},
   "outputs": [],
   "source": [
    "#df_new = pd.DataFrame(df_new['genres'].row.str.split('|',1).tolist())\n",
    "\n",
    "df_new['genres'] = df_new['genres'].str.split('|')"
   ]
  },
  {
   "cell_type": "markdown",
   "metadata": {},
   "source": [
    "### Creating new columns of different Genres"
   ]
  },
  {
   "cell_type": "code",
   "execution_count": 15,
   "metadata": {},
   "outputs": [],
   "source": [
    "#for index, list in df_new['genres'].index, df_new['genres'] :\n",
    "#df_new.iloc[0, df_new.columns.get_loc('Action')] = 1\n",
    "index = df_new.index.tolist()\n",
    "i = index[0]\n",
    "df_new['genre_action'] = \"\"\n",
    "df_new['genre_thriller'] = \"\"\n",
    "df_new['genre_adventure'] = \"\"\n",
    "df_new['genre_sci_fic'] = \"\"\n",
    "df_new['genre_crime'] = \"\"\n",
    "df_new['genre_horror'] = \"\"\n",
    "df_new['genre_fantasy'] = \"\"\n",
    "df_new['genre_doc'] = \"\"\n",
    "df_new['genre_drama'] = \"\"\n",
    "df_new['genre_mystery'] = \"\"\n",
    "df_new['genre_comedy'] = \"\"\n",
    "df_new['genre_romance'] = \"\"\n",
    "df_new['genre_family'] = \"\"\n",
    "df_new['genre_western'] = \"\"\n",
    "df_new['genre_anim'] = \"\"\n",
    "for list in df_new['genres'] :\n",
    "    #....................action_genre...................\n",
    "    if 'Action' in list :\n",
    "        df_new.iloc[i, df_new.columns.get_loc('genre_action')] = 1\n",
    "    else :\n",
    "        df_new.iloc[i, df_new.columns.get_loc('genre_action')] = 0\n",
    "    #...................Thriller_genre...................\n",
    "    if 'Thriller' in list :\n",
    "        df_new.iloc[i, df_new.columns.get_loc('genre_thriller')] = 1\n",
    "    else :\n",
    "        df_new.iloc[i, df_new.columns.get_loc('genre_thriller')] = 0\n",
    "    if 'Adventure' in list :\n",
    "        df_new.iloc[i, df_new.columns.get_loc('genre_adventure')] = 1\n",
    "    else :\n",
    "        df_new.iloc[i, df_new.columns.get_loc('genre_adventure')] = 0\n",
    "    if 'Science Fiction' in list :\n",
    "        df_new.iloc[i, df_new.columns.get_loc('genre_sci_fic')] = 1\n",
    "    else :\n",
    "        df_new.iloc[i, df_new.columns.get_loc('genre_sci_fic')] = 0\n",
    "    if 'Crime' in list :\n",
    "        df_new.iloc[i, df_new.columns.get_loc('genre_crime')] = 1\n",
    "    else :\n",
    "        df_new.iloc[i, df_new.columns.get_loc('genre_crime')] = 0\n",
    "    if 'Horror' in list :\n",
    "        df_new.iloc[i, df_new.columns.get_loc('genre_horror')] = 1\n",
    "    else :\n",
    "        df_new.iloc[i, df_new.columns.get_loc('genre_horror')] = 0\n",
    "    if 'Fantasy' in list :\n",
    "        df_new.iloc[i, df_new.columns.get_loc('genre_fantasy')] = 1\n",
    "    else :\n",
    "        df_new.iloc[i, df_new.columns.get_loc('genre_fantasy')] = 0\n",
    "    if 'Documentary' in list :\n",
    "        df_new.iloc[i, df_new.columns.get_loc('genre_doc')] = 1\n",
    "    else :\n",
    "        df_new.iloc[i, df_new.columns.get_loc('genre_doc')] = 0\n",
    "    if 'Drama' in list :\n",
    "        df_new.iloc[i, df_new.columns.get_loc('genre_drama')] = 1\n",
    "    else :\n",
    "        df_new.iloc[i, df_new.columns.get_loc('genre_drama')] = 0\n",
    "    if 'Mystery' in list :\n",
    "        df_new.iloc[i, df_new.columns.get_loc('genre_mystery')] = 1\n",
    "    else :\n",
    "        df_new.iloc[i, df_new.columns.get_loc('genre_mystery')] = 0\n",
    "    if 'Comedy' in list :\n",
    "        df_new.iloc[i, df_new.columns.get_loc('genre_comedy')] = 1\n",
    "    else :\n",
    "        df_new.iloc[i, df_new.columns.get_loc('genre_comedy')] = 0\n",
    "    if 'Romance' in list :\n",
    "        df_new.iloc[i, df_new.columns.get_loc('genre_romance')] = 1\n",
    "    else :\n",
    "        df_new.iloc[i, df_new.columns.get_loc('genre_romance')] = 0\n",
    "    if 'Family' in list :\n",
    "        df_new.iloc[i, df_new.columns.get_loc('genre_family')] = 1\n",
    "    else :\n",
    "        df_new.iloc[i, df_new.columns.get_loc('genre_family')] = 0\n",
    "    if 'Western' in list :\n",
    "        df_new.iloc[i, df_new.columns.get_loc('genre_western')] = 1\n",
    "    else :\n",
    "        df_new.iloc[i, df_new.columns.get_loc('genre_western')] = 0\n",
    "    if 'Animation' in list :\n",
    "        df_new.iloc[i, df_new.columns.get_loc('genre_anim')] = 1\n",
    "    else :\n",
    "        df_new.iloc[i, df_new.columns.get_loc('genre_anim')] = 0\n",
    "    i = i+1\n",
    "#df_new['genre_action'].value_counts()"
   ]
  },
  {
   "cell_type": "code",
   "execution_count": 16,
   "metadata": {},
   "outputs": [
    {
     "data": {
      "text/plain": [
       "Index([u'id', u'popularity', u'budget', u'revenue', u'genres', u'release_year',\n",
       "       u'vote_count', u'vote_average', u'success_factor', u'vote_factor',\n",
       "       u'factor', u'genre_action', u'genre_thriller', u'genre_adventure',\n",
       "       u'genre_sci_fic', u'genre_crime', u'genre_horror', u'genre_fantasy',\n",
       "       u'genre_doc', u'genre_drama', u'genre_mystery', u'genre_comedy',\n",
       "       u'genre_romance', u'genre_family', u'genre_western', u'genre_anim'],\n",
       "      dtype='object')"
      ]
     },
     "execution_count": 16,
     "metadata": {},
     "output_type": "execute_result"
    }
   ],
   "source": [
    "df_new.columns"
   ]
  },
  {
   "cell_type": "markdown",
   "metadata": {},
   "source": [
    "<a id='eda'></a>\n",
    "## Exploratory Data Analysis\n",
    "\n",
    "\n",
    "### Research Question 1 (Most popular \"Genre\" ?)"
   ]
  },
  {
   "cell_type": "markdown",
   "metadata": {
    "collapsed": true
   },
   "source": [
    "**Question**\n",
    "> Which one is the most **popular Genre** ?"
   ]
  },
  {
   "cell_type": "code",
   "execution_count": 20,
   "metadata": {},
   "outputs": [
    {
     "name": "stdout",
     "output_type": "stream",
     "text": [
      "0    8458\n",
      "1    2385\n",
      "Name: genre_action, dtype: int64\n",
      "0    7935\n",
      "1    2908\n",
      "Name: genre_thriller, dtype: int64\n",
      "0    9372\n",
      "1    1471\n",
      "Name: genre_adventure, dtype: int64\n",
      "0    9613\n",
      "1    1230\n",
      "Name: genre_sci_fic, dtype: int64\n",
      "0    9488\n",
      "1    1355\n",
      "Name: genre_crime, dtype: int64\n",
      "0    9206\n",
      "1    1637\n",
      "Name: genre_horror, dtype: int64\n",
      "0    9927\n",
      "1     916\n",
      "Name: genre_fantasy, dtype: int64\n",
      "0    10323\n",
      "1      520\n",
      "Name: genre_doc, dtype: int64\n",
      "0    6082\n",
      "1    4761\n",
      "Name: genre_drama, dtype: int64\n",
      "0    10033\n",
      "1      810\n",
      "Name: genre_mystery, dtype: int64\n",
      "0    7050\n",
      "1    3793\n",
      "Name: genre_comedy, dtype: int64\n",
      "0    9131\n",
      "1    1712\n",
      "Name: genre_romance, dtype: int64\n",
      "0    9612\n",
      "1    1231\n",
      "Name: genre_family, dtype: int64\n",
      "0    10678\n",
      "1      165\n",
      "Name: genre_western, dtype: int64\n",
      "0    10144\n",
      "1      699\n",
      "Name: genre_anim, dtype: int64\n"
     ]
    }
   ],
   "source": [
    "#df_new.apply(pd.value_counts)\n",
    "df_new.columns.values\n",
    "\n",
    "counts = [df_new['genre_action'].value_counts(),df_new['genre_thriller'].value_counts(),df_new['genre_adventure'].value_counts(), \n",
    "          df_new['genre_sci_fic'].value_counts(), df_new['genre_crime'].value_counts(), df_new['genre_horror'].value_counts(),\n",
    "         df_new['genre_fantasy'].value_counts(), df_new['genre_doc'].value_counts(), df_new['genre_drama'].value_counts(), \n",
    "         df_new['genre_mystery'].value_counts(), df_new['genre_comedy'].value_counts(), df_new['genre_romance'].value_counts(),\n",
    "         df_new['genre_family'].value_counts(), df_new['genre_western'].value_counts(), df_new['genre_anim'].value_counts()]\n",
    "\n",
    "for item in counts:\n",
    "    print item"
   ]
  },
  {
   "cell_type": "markdown",
   "metadata": {},
   "source": [
    "The most ***popular Genre*** is \n",
    "> ## Drama"
   ]
  },
  {
   "cell_type": "code",
   "execution_count": 21,
   "metadata": {},
   "outputs": [
    {
     "data": {
      "text/plain": [
       "Index([u'id', u'popularity', u'budget', u'revenue', u'genres', u'release_year',\n",
       "       u'vote_count', u'vote_average', u'success_factor', u'vote_factor',\n",
       "       u'factor', u'genre_action', u'genre_thriller', u'genre_adventure',\n",
       "       u'genre_sci_fic', u'genre_crime', u'genre_horror', u'genre_fantasy',\n",
       "       u'genre_doc', u'genre_drama', u'genre_mystery', u'genre_comedy',\n",
       "       u'genre_romance', u'genre_family', u'genre_western', u'genre_anim'],\n",
       "      dtype='object')"
      ]
     },
     "execution_count": 21,
     "metadata": {},
     "output_type": "execute_result"
    }
   ],
   "source": [
    "df_new.columns"
   ]
  },
  {
   "cell_type": "markdown",
   "metadata": {},
   "source": [
    "### Research Question 2  (Success factor vs Release year)"
   ]
  },
  {
   "cell_type": "markdown",
   "metadata": {},
   "source": [
    "**Question**\n",
    "> Is there any **increase in profit of revenue** of movies **with respect to years** ?"
   ]
  },
  {
   "cell_type": "code",
   "execution_count": 22,
   "metadata": {},
   "outputs": [
    {
     "data": {
      "image/png": "[encoded data removed]",
      "text/plain": [
       "<Figure size 720x720 with 1 Axes>"
      ]
     },
     "metadata": {},
     "output_type": "display_data"
    }
   ],
   "source": [
    "df_new.plot(x='release_year', y='success_factor', figsize = (10,10) , kind = 'scatter');\n",
    "\n",
    "# Continue to explore the data to address your additional research\n",
    "#   questions. Add more headers as needed if you have more questions to\n",
    "#   investigate."
   ]
  },
  {
   "cell_type": "markdown",
   "metadata": {},
   "source": [
    "From the above *Scatter plot*, it can be seen the Success factor has increased over the passage of time, this can be the result of increase in the literacy rate of people which resulted in increase of employment and increase in income of people world-wide."
   ]
  },
  {
   "cell_type": "markdown",
   "metadata": {},
   "source": [
    "### Research Question 3 (Successful movies with above average votes)"
   ]
  },
  {
   "cell_type": "markdown",
   "metadata": {},
   "source": [
    "**Question**\n",
    "> How many movies have been successful and also have above average Voting factor ?\n",
    "\n",
    "#### **Independent Variables**\n",
    "> 1. budget\n",
    "> 2. revenue\n",
    "> 3. vote counts\n",
    "> 4. vote average\n",
    "\n",
    "#### **Intermediate Dependent Variables**\n",
    "> 1. success_factor\n",
    "> 2. vote_factor\n",
    "\n",
    "#### **Final Dependent Variables**\n",
    "> 1. factor\n"
   ]
  },
  {
   "cell_type": "code",
   "execution_count": 23,
   "metadata": {},
   "outputs": [
    {
     "data": {
      "text/plain": [
       "0    10615\n",
       "1      228\n",
       "Name: factor, dtype: int64"
      ]
     },
     "execution_count": 23,
     "metadata": {},
     "output_type": "execute_result"
    }
   ],
   "source": [
    "df_new['factor'].value_counts()"
   ]
  },
  {
   "cell_type": "markdown",
   "metadata": {},
   "source": [
    "#### There are total 228 movies which have earned greater revenue than their budget and also have above average voting count"
   ]
  },
  {
   "cell_type": "markdown",
   "metadata": {},
   "source": [
    "### Research Question 4 (Average Popularity ?)"
   ]
  },
  {
   "cell_type": "markdown",
   "metadata": {},
   "source": [
    "**Question**\n",
    "> What's the average popularity of Successful movies ?"
   ]
  },
  {
   "cell_type": "code",
   "execution_count": 24,
   "metadata": {},
   "outputs": [
    {
     "data": {
      "text/html": [
       "<div>\n",
       "<style scoped>\n",
       "    .dataframe tbody tr th:only-of-type {\n",
       "        vertical-align: middle;\n",
       "    }\n",
       "\n",
       "    .dataframe tbody tr th {\n",
       "        vertical-align: top;\n",
       "    }\n",
       "\n",
       "    .dataframe thead th {\n",
       "        text-align: right;\n",
       "    }\n",
       "</style>\n",
       "<table border=\"1\" class=\"dataframe\">\n",
       "  <thead>\n",
       "    <tr style=\"text-align: right;\">\n",
       "      <th></th>\n",
       "      <th>id</th>\n",
       "      <th>popularity</th>\n",
       "      <th>budget</th>\n",
       "      <th>revenue</th>\n",
       "      <th>release_year</th>\n",
       "      <th>vote_count</th>\n",
       "      <th>vote_average</th>\n",
       "      <th>success_factor</th>\n",
       "      <th>vote_factor</th>\n",
       "      <th>factor</th>\n",
       "      <th>...</th>\n",
       "      <th>genre_horror</th>\n",
       "      <th>genre_fantasy</th>\n",
       "      <th>genre_doc</th>\n",
       "      <th>genre_drama</th>\n",
       "      <th>genre_mystery</th>\n",
       "      <th>genre_comedy</th>\n",
       "      <th>genre_romance</th>\n",
       "      <th>genre_family</th>\n",
       "      <th>genre_western</th>\n",
       "      <th>genre_anim</th>\n",
       "    </tr>\n",
       "  </thead>\n",
       "  <tbody>\n",
       "    <tr>\n",
       "      <th>count</th>\n",
       "      <td>228.000000</td>\n",
       "      <td>228.000000</td>\n",
       "      <td>228.0</td>\n",
       "      <td>2.280000e+02</td>\n",
       "      <td>228.000000</td>\n",
       "      <td>228.000000</td>\n",
       "      <td>228.000000</td>\n",
       "      <td>2.280000e+02</td>\n",
       "      <td>228.000000</td>\n",
       "      <td>228.0</td>\n",
       "      <td>...</td>\n",
       "      <td>228.000000</td>\n",
       "      <td>228.000000</td>\n",
       "      <td>228.000000</td>\n",
       "      <td>228.000000</td>\n",
       "      <td>228.000000</td>\n",
       "      <td>228.000000</td>\n",
       "      <td>228.000000</td>\n",
       "      <td>228.000000</td>\n",
       "      <td>228.000000</td>\n",
       "      <td>228.000000</td>\n",
       "    </tr>\n",
       "    <tr>\n",
       "      <th>mean</th>\n",
       "      <td>23061.697368</td>\n",
       "      <td>0.288425</td>\n",
       "      <td>0.0</td>\n",
       "      <td>1.440235e+07</td>\n",
       "      <td>1990.539474</td>\n",
       "      <td>17.903509</td>\n",
       "      <td>5.903070</td>\n",
       "      <td>1.440235e+09</td>\n",
       "      <td>0.421646</td>\n",
       "      <td>1.0</td>\n",
       "      <td>...</td>\n",
       "      <td>0.092105</td>\n",
       "      <td>0.070175</td>\n",
       "      <td>0.035088</td>\n",
       "      <td>0.521930</td>\n",
       "      <td>0.070175</td>\n",
       "      <td>0.429825</td>\n",
       "      <td>0.254386</td>\n",
       "      <td>0.105263</td>\n",
       "      <td>0.021930</td>\n",
       "      <td>0.013158</td>\n",
       "    </tr>\n",
       "    <tr>\n",
       "      <th>std</th>\n",
       "      <td>21581.284907</td>\n",
       "      <td>0.164624</td>\n",
       "      <td>0.0</td>\n",
       "      <td>1.443503e+07</td>\n",
       "      <td>9.892961</td>\n",
       "      <td>6.165799</td>\n",
       "      <td>0.841511</td>\n",
       "      <td>1.443503e+09</td>\n",
       "      <td>0.135111</td>\n",
       "      <td>0.0</td>\n",
       "      <td>...</td>\n",
       "      <td>0.289811</td>\n",
       "      <td>0.256004</td>\n",
       "      <td>0.184406</td>\n",
       "      <td>0.500618</td>\n",
       "      <td>0.256004</td>\n",
       "      <td>0.496140</td>\n",
       "      <td>0.436474</td>\n",
       "      <td>0.307567</td>\n",
       "      <td>0.146777</td>\n",
       "      <td>0.114201</td>\n",
       "    </tr>\n",
       "    <tr>\n",
       "      <th>min</th>\n",
       "      <td>67.000000</td>\n",
       "      <td>0.037970</td>\n",
       "      <td>0.0</td>\n",
       "      <td>1.666511e+06</td>\n",
       "      <td>1960.000000</td>\n",
       "      <td>10.000000</td>\n",
       "      <td>3.100000</td>\n",
       "      <td>1.666511e+08</td>\n",
       "      <td>0.239110</td>\n",
       "      <td>1.0</td>\n",
       "      <td>...</td>\n",
       "      <td>0.000000</td>\n",
       "      <td>0.000000</td>\n",
       "      <td>0.000000</td>\n",
       "      <td>0.000000</td>\n",
       "      <td>0.000000</td>\n",
       "      <td>0.000000</td>\n",
       "      <td>0.000000</td>\n",
       "      <td>0.000000</td>\n",
       "      <td>0.000000</td>\n",
       "      <td>0.000000</td>\n",
       "    </tr>\n",
       "    <tr>\n",
       "      <th>25%</th>\n",
       "      <td>12686.500000</td>\n",
       "      <td>0.174474</td>\n",
       "      <td>0.0</td>\n",
       "      <td>4.755056e+06</td>\n",
       "      <td>1984.750000</td>\n",
       "      <td>13.000000</td>\n",
       "      <td>5.400000</td>\n",
       "      <td>4.755056e+08</td>\n",
       "      <td>0.302292</td>\n",
       "      <td>1.0</td>\n",
       "      <td>...</td>\n",
       "      <td>0.000000</td>\n",
       "      <td>0.000000</td>\n",
       "      <td>0.000000</td>\n",
       "      <td>0.000000</td>\n",
       "      <td>0.000000</td>\n",
       "      <td>0.000000</td>\n",
       "      <td>0.000000</td>\n",
       "      <td>0.000000</td>\n",
       "      <td>0.000000</td>\n",
       "      <td>0.000000</td>\n",
       "    </tr>\n",
       "    <tr>\n",
       "      <th>50%</th>\n",
       "      <td>18183.000000</td>\n",
       "      <td>0.263132</td>\n",
       "      <td>0.0</td>\n",
       "      <td>9.123446e+06</td>\n",
       "      <td>1989.000000</td>\n",
       "      <td>16.000000</td>\n",
       "      <td>6.000000</td>\n",
       "      <td>9.123446e+08</td>\n",
       "      <td>0.394133</td>\n",
       "      <td>1.0</td>\n",
       "      <td>...</td>\n",
       "      <td>0.000000</td>\n",
       "      <td>0.000000</td>\n",
       "      <td>0.000000</td>\n",
       "      <td>1.000000</td>\n",
       "      <td>0.000000</td>\n",
       "      <td>0.000000</td>\n",
       "      <td>0.000000</td>\n",
       "      <td>0.000000</td>\n",
       "      <td>0.000000</td>\n",
       "      <td>0.000000</td>\n",
       "    </tr>\n",
       "    <tr>\n",
       "      <th>75%</th>\n",
       "      <td>26821.750000</td>\n",
       "      <td>0.380951</td>\n",
       "      <td>0.0</td>\n",
       "      <td>1.878988e+07</td>\n",
       "      <td>1995.250000</td>\n",
       "      <td>22.250000</td>\n",
       "      <td>6.400000</td>\n",
       "      <td>1.878988e+09</td>\n",
       "      <td>0.524130</td>\n",
       "      <td>1.0</td>\n",
       "      <td>...</td>\n",
       "      <td>0.000000</td>\n",
       "      <td>0.000000</td>\n",
       "      <td>0.000000</td>\n",
       "      <td>1.000000</td>\n",
       "      <td>0.000000</td>\n",
       "      <td>1.000000</td>\n",
       "      <td>1.000000</td>\n",
       "      <td>0.000000</td>\n",
       "      <td>0.000000</td>\n",
       "      <td>0.000000</td>\n",
       "    </tr>\n",
       "    <tr>\n",
       "      <th>max</th>\n",
       "      <td>238751.000000</td>\n",
       "      <td>0.897597</td>\n",
       "      <td>0.0</td>\n",
       "      <td>1.020000e+08</td>\n",
       "      <td>2012.000000</td>\n",
       "      <td>33.000000</td>\n",
       "      <td>8.000000</td>\n",
       "      <td>1.020000e+10</td>\n",
       "      <td>0.755584</td>\n",
       "      <td>1.0</td>\n",
       "      <td>...</td>\n",
       "      <td>1.000000</td>\n",
       "      <td>1.000000</td>\n",
       "      <td>1.000000</td>\n",
       "      <td>1.000000</td>\n",
       "      <td>1.000000</td>\n",
       "      <td>1.000000</td>\n",
       "      <td>1.000000</td>\n",
       "      <td>1.000000</td>\n",
       "      <td>1.000000</td>\n",
       "      <td>1.000000</td>\n",
       "    </tr>\n",
       "  </tbody>\n",
       "</table>\n",
       "<p>8 rows × 25 columns</p>\n",
       "</div>"
      ],
      "text/plain": [
       "                  id  popularity  budget       revenue  release_year  \\\n",
       "count     228.000000  228.000000   228.0  2.280000e+02    228.000000   \n",
       "mean    23061.697368    0.288425     0.0  1.440235e+07   1990.539474   \n",
       "std     21581.284907    0.164624     0.0  1.443503e+07      9.892961   \n",
       "min        67.000000    0.037970     0.0  1.666511e+06   1960.000000   \n",
       "25%     12686.500000    0.174474     0.0  4.755056e+06   1984.750000   \n",
       "50%     18183.000000    0.263132     0.0  9.123446e+06   1989.000000   \n",
       "75%     26821.750000    0.380951     0.0  1.878988e+07   1995.250000   \n",
       "max    238751.000000    0.897597     0.0  1.020000e+08   2012.000000   \n",
       "\n",
       "       vote_count  vote_average  success_factor  vote_factor  factor  \\\n",
       "count  228.000000    228.000000    2.280000e+02   228.000000   228.0   \n",
       "mean    17.903509      5.903070    1.440235e+09     0.421646     1.0   \n",
       "std      6.165799      0.841511    1.443503e+09     0.135111     0.0   \n",
       "min     10.000000      3.100000    1.666511e+08     0.239110     1.0   \n",
       "25%     13.000000      5.400000    4.755056e+08     0.302292     1.0   \n",
       "50%     16.000000      6.000000    9.123446e+08     0.394133     1.0   \n",
       "75%     22.250000      6.400000    1.878988e+09     0.524130     1.0   \n",
       "max     33.000000      8.000000    1.020000e+10     0.755584     1.0   \n",
       "\n",
       "          ...      genre_horror  genre_fantasy   genre_doc  genre_drama  \\\n",
       "count     ...        228.000000     228.000000  228.000000   228.000000   \n",
       "mean      ...          0.092105       0.070175    0.035088     0.521930   \n",
       "std       ...          0.289811       0.256004    0.184406     0.500618   \n",
       "min       ...          0.000000       0.000000    0.000000     0.000000   \n",
       "25%       ...          0.000000       0.000000    0.000000     0.000000   \n",
       "50%       ...          0.000000       0.000000    0.000000     1.000000   \n",
       "75%       ...          0.000000       0.000000    0.000000     1.000000   \n",
       "max       ...          1.000000       1.000000    1.000000     1.000000   \n",
       "\n",
       "       genre_mystery  genre_comedy  genre_romance  genre_family  \\\n",
       "count     228.000000    228.000000     228.000000    228.000000   \n",
       "mean        0.070175      0.429825       0.254386      0.105263   \n",
       "std         0.256004      0.496140       0.436474      0.307567   \n",
       "min         0.000000      0.000000       0.000000      0.000000   \n",
       "25%         0.000000      0.000000       0.000000      0.000000   \n",
       "50%         0.000000      0.000000       0.000000      0.000000   \n",
       "75%         0.000000      1.000000       1.000000      0.000000   \n",
       "max         1.000000      1.000000       1.000000      1.000000   \n",
       "\n",
       "       genre_western  genre_anim  \n",
       "count     228.000000  228.000000  \n",
       "mean        0.021930    0.013158  \n",
       "std         0.146777    0.114201  \n",
       "min         0.000000    0.000000  \n",
       "25%         0.000000    0.000000  \n",
       "50%         0.000000    0.000000  \n",
       "75%         0.000000    0.000000  \n",
       "max         1.000000    1.000000  \n",
       "\n",
       "[8 rows x 25 columns]"
      ]
     },
     "execution_count": 24,
     "metadata": {},
     "output_type": "execute_result"
    }
   ],
   "source": [
    "df_new[df_new['factor'] == 1].describe()"
   ]
  },
  {
   "cell_type": "markdown",
   "metadata": {},
   "source": [
    "The **average popularity** of a Successful movie is **0.288425**."
   ]
  },
  {
   "cell_type": "markdown",
   "metadata": {},
   "source": [
    "<a id='conclusions'></a>\n",
    "## Conclusions"
   ]
  },
  {
   "cell_type": "markdown",
   "metadata": {
    "collapsed": true
   },
   "source": [
    "The following Conclusions can be drawn from the **Analysis** of ***TMdb Movie Reviews***\n",
    "> 1. Among all of the 15 genres the **most popular Genre* is **Documentary**.\n",
    "> 2. A **Positive Correlation** can be seen between **Success** (in terms of revenue per budget) and **Release Year** of all movies.\n",
    "> 3. There are total **228** movies which have **earned greater revenue than their budget and also have above average voting count**.\n",
    "> 4. The average popularity of a Successful movie is 0.288425."
   ]
  },
  {
   "cell_type": "markdown",
   "metadata": {},
   "source": [
    "#### Resources used as help :\n",
    "> 1. StackOverflow\n",
    "> 2. https://docs.python.org\n",
    "> 3. https://markhneedham.com/blog/2017/07/26/pandas-valueerror-the-truth-value-of-a-series-is-ambiguous/\n",
    "> 4. https://leportella.com/cheatlist/2017/11/22/pandas-cheat-list.html"
   ]
  }
 ],
 "metadata": {
  "kernelspec": {
   "display_name": "Python 2",
   "language": "python",
   "name": "python2"
  },
  "language_info": {
   "codemirror_mode": {
    "name": "ipython",
    "version": 2
   },
   "file_extension": ".py",
   "mimetype": "text/x-python",
   "name": "python",
   "nbconvert_exporter": "python",
   "pygments_lexer": "ipython2",
   "version": "2.7.12"
  }
 },
 "nbformat": 4,
 "nbformat_minor": 2
}
